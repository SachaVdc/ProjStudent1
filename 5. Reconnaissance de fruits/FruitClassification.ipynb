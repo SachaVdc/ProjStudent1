{
 "cells": [
  {
   "cell_type": "markdown",
   "id": "49916bc7",
   "metadata": {
    "tags": []
   },
   "source": [
    "## Import librairies"
   ]
  },
  {
   "cell_type": "code",
   "execution_count": null,
   "id": "48f309a2",
   "metadata": {
    "tags": []
   },
   "outputs": [],
   "source": [
    "import pandas as pd\n",
    "import cv2\n",
    "import numpy as np\n",
    "from pathlib import Path\n",
    "import matplotlib.pyplot as plt\n",
    "import tensorflow as tf\n",
    "from tensorflow import keras"
   ]
  },
  {
   "cell_type": "markdown",
   "id": "b4f31721",
   "metadata": {},
   "source": [
    "## Import data"
   ]
  },
  {
   "cell_type": "code",
   "execution_count": null,
   "id": "154a2497",
   "metadata": {},
   "outputs": [],
   "source": [
    "df = pd.read_csv('pl_data.csv')"
   ]
  },
  {
   "cell_type": "code",
   "execution_count": null,
   "id": "3fb91fd7",
   "metadata": {},
   "outputs": [],
   "source": [
    "df"
   ]
  },
  {
   "cell_type": "code",
   "execution_count": null,
   "id": "4891685e-f08f-4749-a70b-b5870193fec8",
   "metadata": {
    "tags": []
   },
   "outputs": [],
   "source": [
    "df['category']"
   ]
  },
  {
   "cell_type": "code",
   "execution_count": null,
   "id": "2510d0fe-f618-498d-8a3e-6547ba42f3ee",
   "metadata": {
    "tags": []
   },
   "outputs": [],
   "source": [
    "from sklearn import preprocessing\n",
    "le = preprocessing.LabelEncoder()\n",
    "le.fit(df['category'])\n",
    "y = le.transform(df['category'])\n",
    "print(y.shape)\n",
    "print(list(le.inverse_transform([0, 1, 2])))"
   ]
  },
  {
   "cell_type": "code",
   "execution_count": null,
   "id": "31b1dafc",
   "metadata": {},
   "outputs": [],
   "source": [
    "X = []\n",
    "index = 0\n",
    "\n",
    "for files in df.images: \n",
    "    X.append(cv2.cvtColor(cv2.imread(files), cv2.COLOR_BGR2RGB))\n",
    "    index = index+1\n",
    "\n",
    "X = np.asarray(X)\n",
    "print(X.shape)"
   ]
  },
  {
   "cell_type": "code",
   "execution_count": null,
   "id": "6b6c3334",
   "metadata": {},
   "outputs": [],
   "source": [
    "plt.imshow(X[0])"
   ]
  },
  {
   "cell_type": "markdown",
   "id": "1cda90ec",
   "metadata": {},
   "source": [
    "## Split into train and test"
   ]
  },
  {
   "cell_type": "code",
   "execution_count": null,
   "id": "5439e3fc",
   "metadata": {},
   "outputs": [],
   "source": [
    "from sklearn.model_selection import train_test_split\n",
    "X_train, X_test, y_train, y_test = train_test_split(X, y, test_size=0.33, random_state=42)\n",
    "print(X_train.shape)\n",
    "print(y_train.shape)\n",
    "print(X_test.shape)\n",
    "print(y_test.shape)"
   ]
  },
  {
   "cell_type": "code",
   "execution_count": null,
   "id": "e90d4042",
   "metadata": {},
   "outputs": [],
   "source": [
    "plt.imshow(X_train[15])"
   ]
  },
  {
   "cell_type": "markdown",
   "id": "35bb9dcd",
   "metadata": {},
   "source": [
    "## Build the model"
   ]
  },
  {
   "cell_type": "code",
   "execution_count": null,
   "id": "97799414",
   "metadata": {},
   "outputs": [],
   "source": [
    "model = keras.models.Sequential()\n",
    "\n",
    "#model.add( keras.layers.Input((28,28,1))) #input layer\n",
    "\n",
    "model.add( keras.layers.Conv2D(8, (3,3),  activation='relu', input_shape = (100,100,3)) )#8 2dconvolutiv planes, kernel size 3*3\n",
    "model.add( keras.layers.MaxPooling2D((2,2)))#reduce the image size on 4\n",
    "model.add( keras.layers.Dropout(0.2))#deactivate randomely some neuron outputs (regularization and avoid overfitting)\n",
    "\n",
    "model.add( keras.layers.Conv2D(16, (3,3), activation='relu') )\n",
    "model.add( keras.layers.MaxPooling2D((2,2)))\n",
    "model.add( keras.layers.Dropout(0.2))\n",
    "\n",
    "model.add( keras.layers.Conv2D(32, (3,3), activation='relu') )\n",
    "model.add( keras.layers.MaxPooling2D((2,2)))\n",
    "model.add( keras.layers.Dropout(0.3))\n",
    "\n",
    "model.add( keras.layers.Flatten()) \n",
    "model.add( keras.layers.Dense(400, activation='relu'))\n",
    "model.add( keras.layers.Dropout(0.1))\n",
    "model.add( keras.layers.Dense(400, activation='relu'))\n",
    "model.add( keras.layers.Dropout(0.2))\n",
    "\n",
    "model.add( keras.layers.Dense(3, activation='softmax'))"
   ]
  },
  {
   "cell_type": "code",
   "execution_count": null,
   "id": "5af93670",
   "metadata": {},
   "outputs": [],
   "source": [
    "model.summary()\n",
    "\n",
    "model.compile(optimizer='adam',#function for get down the gradient\n",
    "              loss='sparse_categorical_crossentropy',#loss function for classification\n",
    "              metrics=['accuracy']) #the metric "
   ]
  },
  {
   "cell_type": "markdown",
   "id": "db80444e",
   "metadata": {},
   "source": [
    "## Train the model"
   ]
  },
  {
   "cell_type": "code",
   "execution_count": null,
   "id": "8ece4391",
   "metadata": {},
   "outputs": [],
   "source": [
    "%%time\n",
    "\n",
    "batch_size  = 20\n",
    "epochs      =  5\n",
    "history = model.fit(  X_train, y_train,\n",
    "                      batch_size      = batch_size,\n",
    "                      epochs          = epochs,\n",
    "                      verbose         = 1)\n",
    "                    #   validation_data = (X_test, y_test))"
   ]
  },
  {
   "cell_type": "code",
   "execution_count": null,
   "id": "e9cdeced",
   "metadata": {},
   "outputs": [],
   "source": [
    "fig, ax1 = plt.subplots()\n",
    "\n",
    "# Plot loss on the primary y-axis\n",
    "ax1.set_xlabel('Epochs')\n",
    "ax1.set_ylabel('Loss', color='tab:blue')\n",
    "ax1.plot(history.history['loss'], label='Loss', color='tab:blue')\n",
    "ax1.tick_params(axis='y', labelcolor='tab:blue')\n",
    "\n",
    "# Create a secondary y-axis for accuracy\n",
    "ax2 = ax1.twinx()\n",
    "ax2.set_ylabel('Accuracy', color='tab:orange')\n",
    "ax2.plot(history.history['accuracy'], label='Accuracy', color='tab:orange')\n",
    "ax2.tick_params(axis='y', labelcolor='tab:orange')\n",
    "\n",
    "# Add a title and show the plot\n",
    "plt.title('Training Loss and Accuracy')\n",
    "fig.tight_layout()\n",
    "plt.show()"
   ]
  },
  {
   "cell_type": "markdown",
   "id": "feadca6c",
   "metadata": {
    "tags": []
   },
   "source": [
    "## Evaluation"
   ]
  },
  {
   "cell_type": "code",
   "execution_count": null,
   "id": "25ce772b",
   "metadata": {},
   "outputs": [],
   "source": [
    "score = model.evaluate(X_test, y_test, verbose=0)\n",
    "\n",
    "print(f'Test loss     : {score[0]:4.4f}')\n",
    "print(f'Test accuracy : {score[1]:4.4f}')"
   ]
  },
  {
   "cell_type": "code",
   "execution_count": null,
   "id": "b28f9309",
   "metadata": {},
   "outputs": [],
   "source": [
    "y_sigmoid = model.predict(X_test)\n",
    "y_pred    = np.argmax(y_sigmoid, axis=-1)"
   ]
  },
  {
   "cell_type": "code",
   "execution_count": null,
   "id": "1a450dc4",
   "metadata": {},
   "outputs": [],
   "source": [
    "from sklearn.metrics import classification_report,confusion_matrix, accuracy_score\n",
    "import seaborn as sns\n",
    "import matplotlib.pyplot as plt\n",
    "# import scikitplot as skplt \n",
    "\n",
    "print(classification_report(y_test,y_pred,digits = 4))\n",
    "print(accuracy_score(y_test,y_pred))\n",
    "\n",
    "cm = confusion_matrix(y_test, y_pred)\n",
    "plt.figure(figsize=(10, 8))\n",
    "sns.heatmap(cm, annot=True, fmt='d', cmap='Blues', xticklabels=range(3), yticklabels=range(3))\n",
    "plt.xlabel('Predicted Labels')\n",
    "plt.ylabel('True Labels')\n",
    "plt.title('Confusion Matrix')\n",
    "plt.show()"
   ]
  },
  {
   "cell_type": "markdown",
   "id": "54bf2f68",
   "metadata": {},
   "source": [
    "## Save and load the model and try with new data"
   ]
  },
  {
   "cell_type": "code",
   "execution_count": null,
   "id": "43d69e5e",
   "metadata": {},
   "outputs": [],
   "source": [
    "# YOU NEED TO CHANGE THE FILEPATH\n",
    "model_path = \"C:\\\\\\\\Users\\\\mdpdomco\\\\OneDrive - Haute Ecole de Namur-Liege-Luxembourg\\\\Cours\\\\M1\\\\systemes intelligents\\\\05_FruitsClassification\\\\reco.keras\"\n",
    "tf.keras.models.save_model(\n",
    "    model,\n",
    "    filepath = model_path,\n",
    "    overwrite=True,\n",
    ")"
   ]
  },
  {
   "cell_type": "code",
   "execution_count": null,
   "id": "711764fb",
   "metadata": {},
   "outputs": [],
   "source": [
    "\n",
    "model2 = keras.models.load_model(model_path)"
   ]
  },
  {
   "cell_type": "markdown",
   "id": "e6b5fe83-5bb8-43a4-8982-4237f06c3fc2",
   "metadata": {},
   "source": [
    "## Save the model bis"
   ]
  },
  {
   "cell_type": "code",
   "execution_count": null,
   "id": "6c56dcd7-4e25-4067-98f3-e98763aff643",
   "metadata": {
    "tags": []
   },
   "outputs": [],
   "source": [
    "model_json = model.to_json()\n",
    "with open(\"fruits_classifier.json\", 'w') as json_file:\n",
    "    json_file.write(model_json)\n",
    "model.save(\"fruits_classifier.h5\")"
   ]
  },
  {
   "cell_type": "code",
   "execution_count": null,
   "id": "6bea7794-3b1a-45a9-9dc2-a331ebe2c9f1",
   "metadata": {
    "tags": []
   },
   "outputs": [],
   "source": [
    "from keras.models import model_from_json\n",
    "json_file = open(\"fruits_classifier.json\", \"r\")\n",
    "model_json = json_file.read()\n",
    "json_file.close()\n",
    "model2 = model_from_json(model_json)\n",
    "model2.load_weights(\"fruits_classifier.h5\")"
   ]
  },
  {
   "cell_type": "code",
   "execution_count": null,
   "id": "4af5bc02",
   "metadata": {},
   "outputs": [],
   "source": [
    "NewData1 = cv2.cvtColor(cv2.imread('NouvelleBanane.jpg'), cv2.COLOR_BGR2RGB)\n",
    "plt.imshow(NewData1)"
   ]
  },
  {
   "cell_type": "code",
   "execution_count": null,
   "id": "dd62b4dc",
   "metadata": {},
   "outputs": [],
   "source": [
    "NewData1 = cv2.resize(NewData1,(100,100))\n",
    "plt.imshow(NewData1)"
   ]
  },
  {
   "cell_type": "code",
   "execution_count": null,
   "id": "e0d57c12",
   "metadata": {},
   "outputs": [],
   "source": [
    "NewData2 = cv2.cvtColor(cv2.imread('NouvelleOrange.jpg'), cv2.COLOR_BGR2RGB)\n",
    "plt.imshow(NewData2)"
   ]
  },
  {
   "cell_type": "code",
   "execution_count": null,
   "id": "6a6f0c5e",
   "metadata": {},
   "outputs": [],
   "source": [
    "NewData2 = cv2.resize(NewData2,(100,100))\n",
    "plt.imshow(NewData2)"
   ]
  },
  {
   "cell_type": "code",
   "execution_count": null,
   "id": "0c1f48b9-97af-4955-b84f-d1778b778127",
   "metadata": {},
   "outputs": [],
   "source": [
    "NewData3 = cv2.cvtColor(cv2.imread('NouvellePomme.jpg'), cv2.COLOR_BGR2RGB)\n",
    "plt.imshow(NewData3)"
   ]
  },
  {
   "cell_type": "code",
   "execution_count": null,
   "id": "22d9d30c-de6e-43cc-a960-d33089ff57dc",
   "metadata": {},
   "outputs": [],
   "source": [
    "NewData3 = cv2.resize(NewData3,(100,100))\n",
    "plt.imshow(NewData3)"
   ]
  },
  {
   "cell_type": "code",
   "execution_count": null,
   "id": "3453d5b7",
   "metadata": {},
   "outputs": [],
   "source": [
    "NewData = np.stack((NewData1,NewData2,NewData3), axis = 0)"
   ]
  },
  {
   "cell_type": "code",
   "execution_count": null,
   "id": "b12c23e5",
   "metadata": {},
   "outputs": [],
   "source": [
    "NewData.shape"
   ]
  },
  {
   "cell_type": "code",
   "execution_count": null,
   "id": "bdb67b73",
   "metadata": {},
   "outputs": [],
   "source": [
    "y_sigmoid = model2.predict(NewData)\n",
    "y_pred    = np.argmax(y_sigmoid, axis=-1)\n",
    "print(y_pred)"
   ]
  },
  {
   "cell_type": "markdown",
   "id": "ddc7a822",
   "metadata": {},
   "source": [
    "# Next steps\n",
    "adapt the code to classify the entire dataset available at https://github.com/Horea94/Fruit-Images-Dataset\n",
    "\n",
    "Use the proposed train and test separation in the folders. \n",
    "\n",
    "first tackle only with the first word of each folder as class : \"Apple Braeburn\" -> \"Apple\" \n",
    "Then try to differentiate between the different categories of the same fruit."
   ]
  },
  {
   "cell_type": "markdown",
   "id": "21cd4648",
   "metadata": {},
   "source": []
  }
 ],
 "metadata": {
  "kernelspec": {
   "display_name": ".venv",
   "language": "python",
   "name": "python3"
  },
  "language_info": {
   "codemirror_mode": {
    "name": "ipython",
    "version": 3
   },
   "file_extension": ".py",
   "mimetype": "text/x-python",
   "name": "python",
   "nbconvert_exporter": "python",
   "pygments_lexer": "ipython3",
   "version": "3.12.0"
  }
 },
 "nbformat": 4,
 "nbformat_minor": 5
}
