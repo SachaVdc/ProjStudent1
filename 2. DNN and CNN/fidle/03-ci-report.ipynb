{
 "cells": [
  {
   "cell_type": "markdown",
   "metadata": {},
   "source": [
    "<img width=\"800px\" src=\"../fidle/img/00-Fidle-header-01.svg\"></img>\n",
    "\n",
    "\n",
    "## Continuous integration report\n",
    "\n",
    "Réalisation des tests : [02-running-ci-tests.ipynb](02-running-ci-tests.ipynb)  \n",
    "Résultats bruts : [./logs/ci_report.json](./logs/ci_report.json)  "
   ]
  },
  {
   "cell_type": "code",
   "execution_count": 1,
   "metadata": {},
   "outputs": [
    {
     "data": {
      "text/markdown": [
       "### About :"
      ],
      "text/plain": [
       "<IPython.core.display.Markdown object>"
      ]
     },
     "metadata": {},
     "output_type": "display_data"
    },
    {
     "data": {
      "text/markdown": [
       "**Version** : 1.0  \n",
       "**Output_Tag** : ==ci==  \n",
       "**Save_Figs** : True  \n",
       "**Description** : Smart profile, for cpu  \n",
       "**Host** : Oban  \n",
       "**Profile** : ./ci/smart_cpu.yml  \n",
       "**Start** : 09/02/21 22:22:08  \n",
       "**End** : 09/02/21 22:31:28  \n",
       "**Duration** : 0:09:20  \n"
      ],
      "text/plain": [
       "<IPython.core.display.Markdown object>"
      ]
     },
     "metadata": {},
     "output_type": "display_data"
    },
    {
     "data": {
      "text/markdown": [
       "### Details :"
      ],
      "text/plain": [
       "<IPython.core.display.Markdown object>"
      ]
     },
     "metadata": {},
     "output_type": "display_data"
    },
    {
     "data": {
      "text/html": [
       "<style  type=\"text/css\" >\n",
       "    #T_ed857_ td {\n",
       "          font-size: 110%;\n",
       "          text-align: left;\n",
       "    }    #T_ed857_ th {\n",
       "          font-size: 110%;\n",
       "          text-align: left;\n",
       "    }</style><table id=\"T_ed857_\" ><thead>    <tr>        <th class=\"col_heading level0 col0\" >Run</th>        <th class=\"col_heading level0 col1\" >Id</th>        <th class=\"col_heading level0 col2\" >Dir</th>        <th class=\"col_heading level0 col3\" >Src</th>        <th class=\"col_heading level0 col4\" >Out</th>        <th class=\"col_heading level0 col5\" >Start</th>        <th class=\"col_heading level0 col6\" >End</th>        <th class=\"col_heading level0 col7\" >Duration</th>        <th class=\"col_heading level0 col8\" >State</th>    </tr></thead><tbody>\n",
       "                <tr>\n",
       "                                <td id=\"T_ed857_row0_col0\" class=\"data row0 col0\" >LINR1</td>\n",
       "                        <td id=\"T_ed857_row0_col1\" class=\"data row0 col1\" ><a href='../LinearReg/01-Linear-Regression.ipynb'>LINR1</a></td>\n",
       "                        <td id=\"T_ed857_row0_col2\" class=\"data row0 col2\" >LinearReg</td>\n",
       "                        <td id=\"T_ed857_row0_col3\" class=\"data row0 col3\" ><a href='../LinearReg/01-Linear-Regression.ipynb'>01-Linear-Regression.ipynb</a></td>\n",
       "                        <td id=\"T_ed857_row0_col4\" class=\"data row0 col4\" ><a href='../LinearReg/01-Linear-Regression==ci==.ipynb'>01-Linear-Regression==ci==.ipynb</a></td>\n",
       "                        <td id=\"T_ed857_row0_col5\" class=\"data row0 col5\" >09/02/21 22:22:08</td>\n",
       "                        <td id=\"T_ed857_row0_col6\" class=\"data row0 col6\" >09/02/21 22:22:12</td>\n",
       "                        <td id=\"T_ed857_row0_col7\" class=\"data row0 col7\" >0:00:04</td>\n",
       "                        <td id=\"T_ed857_row0_col8\" class=\"data row0 col8\" >ok</td>\n",
       "            </tr>\n",
       "            <tr>\n",
       "                                <td id=\"T_ed857_row1_col0\" class=\"data row1 col0\" >GRAD1</td>\n",
       "                        <td id=\"T_ed857_row1_col1\" class=\"data row1 col1\" ><a href='../LinearReg/02-Gradient-descent.ipynb'>GRAD1</a></td>\n",
       "                        <td id=\"T_ed857_row1_col2\" class=\"data row1 col2\" >LinearReg</td>\n",
       "                        <td id=\"T_ed857_row1_col3\" class=\"data row1 col3\" ><a href='../LinearReg/02-Gradient-descent.ipynb'>02-Gradient-descent.ipynb</a></td>\n",
       "                        <td id=\"T_ed857_row1_col4\" class=\"data row1 col4\" ><a href='../LinearReg/02-Gradient-descent==ci==.ipynb'>02-Gradient-descent==ci==.ipynb</a></td>\n",
       "                        <td id=\"T_ed857_row1_col5\" class=\"data row1 col5\" >09/02/21 22:22:12</td>\n",
       "                        <td id=\"T_ed857_row1_col6\" class=\"data row1 col6\" >09/02/21 22:22:20</td>\n",
       "                        <td id=\"T_ed857_row1_col7\" class=\"data row1 col7\" >0:00:07</td>\n",
       "                        <td id=\"T_ed857_row1_col8\" class=\"data row1 col8\" >ok</td>\n",
       "            </tr>\n",
       "            <tr>\n",
       "                                <td id=\"T_ed857_row2_col0\" class=\"data row2 col0\" >POLR1</td>\n",
       "                        <td id=\"T_ed857_row2_col1\" class=\"data row2 col1\" ><a href='../LinearReg/03-Polynomial-Regression.ipynb'>POLR1</a></td>\n",
       "                        <td id=\"T_ed857_row2_col2\" class=\"data row2 col2\" >LinearReg</td>\n",
       "                        <td id=\"T_ed857_row2_col3\" class=\"data row2 col3\" ><a href='../LinearReg/03-Polynomial-Regression.ipynb'>03-Polynomial-Regression.ipynb</a></td>\n",
       "                        <td id=\"T_ed857_row2_col4\" class=\"data row2 col4\" ><a href='../LinearReg/03-Polynomial-Regression==ci==.ipynb'>03-Polynomial-Regression==ci==.ipynb</a></td>\n",
       "                        <td id=\"T_ed857_row2_col5\" class=\"data row2 col5\" >09/02/21 22:22:20</td>\n",
       "                        <td id=\"T_ed857_row2_col6\" class=\"data row2 col6\" >09/02/21 22:22:24</td>\n",
       "                        <td id=\"T_ed857_row2_col7\" class=\"data row2 col7\" >0:00:03</td>\n",
       "                        <td id=\"T_ed857_row2_col8\" class=\"data row2 col8\" >ok</td>\n",
       "            </tr>\n",
       "            <tr>\n",
       "                                <td id=\"T_ed857_row3_col0\" class=\"data row3 col0\" >LOGR1</td>\n",
       "                        <td id=\"T_ed857_row3_col1\" class=\"data row3 col1\" ><a href='../LinearReg/04-Logistic-Regression.ipynb'>LOGR1</a></td>\n",
       "                        <td id=\"T_ed857_row3_col2\" class=\"data row3 col2\" >LinearReg</td>\n",
       "                        <td id=\"T_ed857_row3_col3\" class=\"data row3 col3\" ><a href='../LinearReg/04-Logistic-Regression.ipynb'>04-Logistic-Regression.ipynb</a></td>\n",
       "                        <td id=\"T_ed857_row3_col4\" class=\"data row3 col4\" ><a href='../LinearReg/04-Logistic-Regression==ci==.ipynb'>04-Logistic-Regression==ci==.ipynb</a></td>\n",
       "                        <td id=\"T_ed857_row3_col5\" class=\"data row3 col5\" >09/02/21 22:22:24</td>\n",
       "                        <td id=\"T_ed857_row3_col6\" class=\"data row3 col6\" >09/02/21 22:22:28</td>\n",
       "                        <td id=\"T_ed857_row3_col7\" class=\"data row3 col7\" >0:00:03</td>\n",
       "                        <td id=\"T_ed857_row3_col8\" class=\"data row3 col8\" >ok</td>\n",
       "            </tr>\n",
       "            <tr>\n",
       "                                <td id=\"T_ed857_row4_col0\" class=\"data row4 col0\" >PER57</td>\n",
       "                        <td id=\"T_ed857_row4_col1\" class=\"data row4 col1\" ><a href='../IRIS/01-Simple-Perceptron.ipynb'>PER57</a></td>\n",
       "                        <td id=\"T_ed857_row4_col2\" class=\"data row4 col2\" >IRIS</td>\n",
       "                        <td id=\"T_ed857_row4_col3\" class=\"data row4 col3\" ><a href='../IRIS/01-Simple-Perceptron.ipynb'>01-Simple-Perceptron.ipynb</a></td>\n",
       "                        <td id=\"T_ed857_row4_col4\" class=\"data row4 col4\" ><a href='../IRIS/01-Simple-Perceptron==ci==.ipynb'>01-Simple-Perceptron==ci==.ipynb</a></td>\n",
       "                        <td id=\"T_ed857_row4_col5\" class=\"data row4 col5\" >09/02/21 22:22:28</td>\n",
       "                        <td id=\"T_ed857_row4_col6\" class=\"data row4 col6\" >09/02/21 22:22:32</td>\n",
       "                        <td id=\"T_ed857_row4_col7\" class=\"data row4 col7\" >0:00:04</td>\n",
       "                        <td id=\"T_ed857_row4_col8\" class=\"data row4 col8\" >ok</td>\n",
       "            </tr>\n",
       "            <tr>\n",
       "                                <td id=\"T_ed857_row5_col0\" class=\"data row5 col0\" >BHPD1</td>\n",
       "                        <td id=\"T_ed857_row5_col1\" class=\"data row5 col1\" ><a href='../BHPD/01-DNN-Regression.ipynb'>BHPD1</a></td>\n",
       "                        <td id=\"T_ed857_row5_col2\" class=\"data row5 col2\" >BHPD</td>\n",
       "                        <td id=\"T_ed857_row5_col3\" class=\"data row5 col3\" ><a href='../BHPD/01-DNN-Regression.ipynb'>01-DNN-Regression.ipynb</a></td>\n",
       "                        <td id=\"T_ed857_row5_col4\" class=\"data row5 col4\" ><a href='../BHPD/01-DNN-Regression==ci==.ipynb'>01-DNN-Regression==ci==.ipynb</a></td>\n",
       "                        <td id=\"T_ed857_row5_col5\" class=\"data row5 col5\" >09/02/21 22:22:32</td>\n",
       "                        <td id=\"T_ed857_row5_col6\" class=\"data row5 col6\" >09/02/21 22:22:41</td>\n",
       "                        <td id=\"T_ed857_row5_col7\" class=\"data row5 col7\" >0:00:09</td>\n",
       "                        <td id=\"T_ed857_row5_col8\" class=\"data row5 col8\" >ok</td>\n",
       "            </tr>\n",
       "            <tr>\n",
       "                                <td id=\"T_ed857_row6_col0\" class=\"data row6 col0\" >BHPD2</td>\n",
       "                        <td id=\"T_ed857_row6_col1\" class=\"data row6 col1\" ><a href='../BHPD/02-DNN-Regression-Premium.ipynb'>BHPH2</a></td>\n",
       "                        <td id=\"T_ed857_row6_col2\" class=\"data row6 col2\" >BHPD</td>\n",
       "                        <td id=\"T_ed857_row6_col3\" class=\"data row6 col3\" ><a href='../BHPD/02-DNN-Regression-Premium.ipynb'>02-DNN-Regression-Premium.ipynb</a></td>\n",
       "                        <td id=\"T_ed857_row6_col4\" class=\"data row6 col4\" ><a href='../BHPD/02-DNN-Regression-Premium==ci==.ipynb'>02-DNN-Regression-Premium==ci==.ipynb</a></td>\n",
       "                        <td id=\"T_ed857_row6_col5\" class=\"data row6 col5\" >09/02/21 22:22:41</td>\n",
       "                        <td id=\"T_ed857_row6_col6\" class=\"data row6 col6\" >09/02/21 22:22:55</td>\n",
       "                        <td id=\"T_ed857_row6_col7\" class=\"data row6 col7\" >0:00:13</td>\n",
       "                        <td id=\"T_ed857_row6_col8\" class=\"data row6 col8\" >ok</td>\n",
       "            </tr>\n",
       "            <tr>\n",
       "                                <td id=\"T_ed857_row7_col0\" class=\"data row7 col0\" >MNIST1</td>\n",
       "                        <td id=\"T_ed857_row7_col1\" class=\"data row7 col1\" ><a href='../MNIST/01-DNN-MNIST.ipynb'>MNIST1</a></td>\n",
       "                        <td id=\"T_ed857_row7_col2\" class=\"data row7 col2\" >MNIST</td>\n",
       "                        <td id=\"T_ed857_row7_col3\" class=\"data row7 col3\" ><a href='../MNIST/01-DNN-MNIST.ipynb'>01-DNN-MNIST.ipynb</a></td>\n",
       "                        <td id=\"T_ed857_row7_col4\" class=\"data row7 col4\" ><a href='../MNIST/01-DNN-MNIST==ci==.ipynb'>01-DNN-MNIST==ci==.ipynb</a></td>\n",
       "                        <td id=\"T_ed857_row7_col5\" class=\"data row7 col5\" >09/02/21 22:22:55</td>\n",
       "                        <td id=\"T_ed857_row7_col6\" class=\"data row7 col6\" >09/02/21 22:23:32</td>\n",
       "                        <td id=\"T_ed857_row7_col7\" class=\"data row7 col7\" >0:00:36</td>\n",
       "                        <td id=\"T_ed857_row7_col8\" class=\"data row7 col8\" >ok</td>\n",
       "            </tr>\n",
       "            <tr>\n",
       "                                <td id=\"T_ed857_row8_col0\" class=\"data row8 col0\" >MNIST2</td>\n",
       "                        <td id=\"T_ed857_row8_col1\" class=\"data row8 col1\" ><a href='../MNIST/02-CNN-MNIST.ipynb'>MNIST2</a></td>\n",
       "                        <td id=\"T_ed857_row8_col2\" class=\"data row8 col2\" >MNIST</td>\n",
       "                        <td id=\"T_ed857_row8_col3\" class=\"data row8 col3\" ><a href='../MNIST/02-CNN-MNIST.ipynb'>02-CNN-MNIST.ipynb</a></td>\n",
       "                        <td id=\"T_ed857_row8_col4\" class=\"data row8 col4\" ><a href='../MNIST/02-CNN-MNIST==ci==.ipynb'>02-CNN-MNIST==ci==.ipynb</a></td>\n",
       "                        <td id=\"T_ed857_row8_col5\" class=\"data row8 col5\" >09/02/21 22:23:32</td>\n",
       "                        <td id=\"T_ed857_row8_col6\" class=\"data row8 col6\" >09/02/21 22:25:27</td>\n",
       "                        <td id=\"T_ed857_row8_col7\" class=\"data row8 col7\" >0:01:55</td>\n",
       "                        <td id=\"T_ed857_row8_col8\" class=\"data row8 col8\" >ok</td>\n",
       "            </tr>\n",
       "            <tr>\n",
       "                                <td id=\"T_ed857_row9_col0\" class=\"data row9 col0\" >GTSRB1</td>\n",
       "                        <td id=\"T_ed857_row9_col1\" class=\"data row9 col1\" ><a href='../GTSRB/01-Preparation-of-data.ipynb'>GTSRG1</a></td>\n",
       "                        <td id=\"T_ed857_row9_col2\" class=\"data row9 col2\" >GTSRB</td>\n",
       "                        <td id=\"T_ed857_row9_col3\" class=\"data row9 col3\" ><a href='../GTSRB/01-Preparation-of-data.ipynb'>01-Preparation-of-data.ipynb</a></td>\n",
       "                        <td id=\"T_ed857_row9_col4\" class=\"data row9 col4\" ><a href='../GTSRB/01-Preparation-of-data==ci==.ipynb'>01-Preparation-of-data==ci==.ipynb</a></td>\n",
       "                        <td id=\"T_ed857_row9_col5\" class=\"data row9 col5\" >09/02/21 22:25:28</td>\n",
       "                        <td id=\"T_ed857_row9_col6\" class=\"data row9 col6\" >09/02/21 22:27:27</td>\n",
       "                        <td id=\"T_ed857_row9_col7\" class=\"data row9 col7\" >0:01:59</td>\n",
       "                        <td id=\"T_ed857_row9_col8\" class=\"data row9 col8\" >ok</td>\n",
       "            </tr>\n",
       "            <tr>\n",
       "                                <td id=\"T_ed857_row10_col0\" class=\"data row10 col0\" >GTSRB2</td>\n",
       "                        <td id=\"T_ed857_row10_col1\" class=\"data row10 col1\" ><a href='../GTSRB/02-First-convolutions.ipynb'>GTSRB2</a></td>\n",
       "                        <td id=\"T_ed857_row10_col2\" class=\"data row10 col2\" >GTSRB</td>\n",
       "                        <td id=\"T_ed857_row10_col3\" class=\"data row10 col3\" ><a href='../GTSRB/02-First-convolutions.ipynb'>02-First-convolutions.ipynb</a></td>\n",
       "                        <td id=\"T_ed857_row10_col4\" class=\"data row10 col4\" ><a href='../GTSRB/02-First-convolutions==ci==.ipynb'>02-First-convolutions==ci==.ipynb</a></td>\n",
       "                        <td id=\"T_ed857_row10_col5\" class=\"data row10 col5\" >09/02/21 22:27:27</td>\n",
       "                        <td id=\"T_ed857_row10_col6\" class=\"data row10 col6\" >09/02/21 22:27:57</td>\n",
       "                        <td id=\"T_ed857_row10_col7\" class=\"data row10 col7\" >0:00:29</td>\n",
       "                        <td id=\"T_ed857_row10_col8\" class=\"data row10 col8\" >ok</td>\n",
       "            </tr>\n",
       "            <tr>\n",
       "                                <td id=\"T_ed857_row11_col0\" class=\"data row11 col0\" >GTSRB3</td>\n",
       "                        <td id=\"T_ed857_row11_col1\" class=\"data row11 col1\" ><a href='../GTSRB/03-Tracking-and-visualizing.ipynb'>GTSRB3</a></td>\n",
       "                        <td id=\"T_ed857_row11_col2\" class=\"data row11 col2\" >GTSRB</td>\n",
       "                        <td id=\"T_ed857_row11_col3\" class=\"data row11 col3\" ><a href='../GTSRB/03-Tracking-and-visualizing.ipynb'>03-Tracking-and-visualizing.ipynb</a></td>\n",
       "                        <td id=\"T_ed857_row11_col4\" class=\"data row11 col4\" ><a href='../GTSRB/03-Tracking-and-visualizing==ci==.ipynb'>03-Tracking-and-visualizing==ci==.ipynb</a></td>\n",
       "                        <td id=\"T_ed857_row11_col5\" class=\"data row11 col5\" >09/02/21 22:27:57</td>\n",
       "                        <td id=\"T_ed857_row11_col6\" class=\"data row11 col6\" >09/02/21 22:28:52</td>\n",
       "                        <td id=\"T_ed857_row11_col7\" class=\"data row11 col7\" >0:00:54</td>\n",
       "                        <td id=\"T_ed857_row11_col8\" class=\"data row11 col8\" >ok</td>\n",
       "            </tr>\n",
       "            <tr>\n",
       "                                <td id=\"T_ed857_row12_col0\" class=\"data row12 col0\" >GTSRB4</td>\n",
       "                        <td id=\"T_ed857_row12_col1\" class=\"data row12 col1\" ><a href='../GTSRB/04-Data-augmentation.ipynb'>GTSRB4</a></td>\n",
       "                        <td id=\"T_ed857_row12_col2\" class=\"data row12 col2\" >GTSRB</td>\n",
       "                        <td id=\"T_ed857_row12_col3\" class=\"data row12 col3\" ><a href='../GTSRB/04-Data-augmentation.ipynb'>04-Data-augmentation.ipynb</a></td>\n",
       "                        <td id=\"T_ed857_row12_col4\" class=\"data row12 col4\" ><a href='../GTSRB/04-Data-augmentation==ci==.ipynb'>04-Data-augmentation==ci==.ipynb</a></td>\n",
       "                        <td id=\"T_ed857_row12_col5\" class=\"data row12 col5\" >09/02/21 22:28:52</td>\n",
       "                        <td id=\"T_ed857_row12_col6\" class=\"data row12 col6\" >09/02/21 22:29:41</td>\n",
       "                        <td id=\"T_ed857_row12_col7\" class=\"data row12 col7\" >0:00:49</td>\n",
       "                        <td id=\"T_ed857_row12_col8\" class=\"data row12 col8\" >ok</td>\n",
       "            </tr>\n",
       "            <tr>\n",
       "                                <td id=\"T_ed857_row13_col0\" class=\"data row13 col0\" >GTSRB5</td>\n",
       "                        <td id=\"T_ed857_row13_col1\" class=\"data row13 col1\" ><a href='../GTSRB/05-Full-convolutions.ipynb'>GTSRB5</a></td>\n",
       "                        <td id=\"T_ed857_row13_col2\" class=\"data row13 col2\" >GTSRB</td>\n",
       "                        <td id=\"T_ed857_row13_col3\" class=\"data row13 col3\" ><a href='../GTSRB/05-Full-convolutions.ipynb'>05-Full-convolutions.ipynb</a></td>\n",
       "                        <td id=\"T_ed857_row13_col4\" class=\"data row13 col4\" ><a href='../GTSRB/05-Full-convolutions==ci==.ipynb'>05-Full-convolutions==ci==.ipynb</a></td>\n",
       "                        <td id=\"T_ed857_row13_col5\" class=\"data row13 col5\" >09/02/21 22:29:41</td>\n",
       "                        <td id=\"T_ed857_row13_col6\" class=\"data row13 col6\" >09/02/21 22:31:24</td>\n",
       "                        <td id=\"T_ed857_row13_col7\" class=\"data row13 col7\" >0:01:43</td>\n",
       "                        <td id=\"T_ed857_row13_col8\" class=\"data row13 col8\" >ok</td>\n",
       "            </tr>\n",
       "            <tr>\n",
       "                                <td id=\"T_ed857_row14_col0\" class=\"data row14 col0\" >GTSRB6</td>\n",
       "                        <td id=\"T_ed857_row14_col1\" class=\"data row14 col1\" ><a href='../GTSRB/06-Notebook-as-a-batch.ipynb'>GTSRB6</a></td>\n",
       "                        <td id=\"T_ed857_row14_col2\" class=\"data row14 col2\" >GTSRB</td>\n",
       "                        <td id=\"T_ed857_row14_col3\" class=\"data row14 col3\" ><a href='../GTSRB/06-Notebook-as-a-batch.ipynb'>06-Notebook-as-a-batch.ipynb</a></td>\n",
       "                        <td id=\"T_ed857_row14_col4\" class=\"data row14 col4\" ><a href='../GTSRB/06-Notebook-as-a-batch==ci==.ipynb'>06-Notebook-as-a-batch==ci==.ipynb</a></td>\n",
       "                        <td id=\"T_ed857_row14_col5\" class=\"data row14 col5\" >09/02/21 22:31:24</td>\n",
       "                        <td id=\"T_ed857_row14_col6\" class=\"data row14 col6\" >09/02/21 22:31:26</td>\n",
       "                        <td id=\"T_ed857_row14_col7\" class=\"data row14 col7\" >0:00:01</td>\n",
       "                        <td id=\"T_ed857_row14_col8\" class=\"data row14 col8\" >ok</td>\n",
       "            </tr>\n",
       "            <tr>\n",
       "                                <td id=\"T_ed857_row15_col0\" class=\"data row15 col0\" >GTSRB7</td>\n",
       "                        <td id=\"T_ed857_row15_col1\" class=\"data row15 col1\" ><a href='../GTSRB/07-Show-report.ipynb'>GTSRB7</a></td>\n",
       "                        <td id=\"T_ed857_row15_col2\" class=\"data row15 col2\" >GTSRB</td>\n",
       "                        <td id=\"T_ed857_row15_col3\" class=\"data row15 col3\" ><a href='../GTSRB/07-Show-report.ipynb'>07-Show-report.ipynb</a></td>\n",
       "                        <td id=\"T_ed857_row15_col4\" class=\"data row15 col4\" ><a href='../GTSRB/07-Show-report==ci==.ipynb'>07-Show-report==ci==.ipynb</a></td>\n",
       "                        <td id=\"T_ed857_row15_col5\" class=\"data row15 col5\" >09/02/21 22:31:26</td>\n",
       "                        <td id=\"T_ed857_row15_col6\" class=\"data row15 col6\" >09/02/21 22:31:28</td>\n",
       "                        <td id=\"T_ed857_row15_col7\" class=\"data row15 col7\" >0:00:02</td>\n",
       "                        <td id=\"T_ed857_row15_col8\" class=\"data row15 col8\" >ok</td>\n",
       "            </tr>\n",
       "    </tbody></table>"
      ],
      "text/plain": [
       "<pandas.io.formats.style.Styler at 0x7f71d6ce2dc0>"
      ]
     },
     "metadata": {},
     "output_type": "display_data"
    },
    {
     "data": {
      "text/markdown": [
       "<br>HTML report saved as : [./logs/ci_report.html](./logs/ci_report.html)"
      ],
      "text/plain": [
       "<IPython.core.display.Markdown object>"
      ]
     },
     "metadata": {},
     "output_type": "display_data"
    }
   ],
   "source": [
    "import cookci\n",
    "cookci.build_ci_report(report_name='./logs/ci_report.json')"
   ]
  },
  {
   "cell_type": "markdown",
   "metadata": {},
   "source": [
    "---\n",
    "<img width=\"80px\" src=\"../fidle/img/00-Fidle-logo-01.svg\"></img>"
   ]
  },
  {
   "cell_type": "code",
   "execution_count": null,
   "metadata": {},
   "outputs": [],
   "source": []
  }
 ],
 "metadata": {
  "kernelspec": {
   "display_name": "Python 3",
   "language": "python",
   "name": "python3"
  },
  "language_info": {
   "codemirror_mode": {
    "name": "ipython",
    "version": 3
   },
   "file_extension": ".py",
   "mimetype": "text/x-python",
   "name": "python",
   "nbconvert_exporter": "python",
   "pygments_lexer": "ipython3",
   "version": "3.8.5"
  }
 },
 "nbformat": 4,
 "nbformat_minor": 4
}
