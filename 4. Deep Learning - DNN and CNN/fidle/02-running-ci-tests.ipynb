{
 "cells": [
  {
   "cell_type": "markdown",
   "metadata": {},
   "source": [
    "<img width=\"800px\" src=\"../fidle/img/00-Fidle-header-01.svg\"></img>\n",
    "\n",
    "\n",
    "# Gestion des tests d'intégration continue\n",
    "\n",
    "**La liste des notebooks a éxécuter** et de leurs paramètres (override) est définie dans un **profile**.  \n",
    " - Un profile est un fichier yaml\n",
    " - Un profile par défaut (à complété !) peut être généré.\n",
    "\n",
    "Lorqu'un **profile** est prêt, il peut être soumis pour **éxécution**\n",
    " - Pour chaque notebook, les paramètres sont positionnés (variables d'env.)\n",
    " - Le notebook est lu, puis éxécuté\n",
    " - Après éxécution, le notebook est sauvegardé sous son nom taggé (output_tag)\n",
    "\n",
    "Un **rapport d'éxécution** est généré durant l'éxécution des tests.  \n",
    "A la fin des tests, ce rapport peut être visualisé via le notebook : [./03-ci-report.ipynb](./03-ci-report.ipynb)\n"
   ]
  },
  {
   "cell_type": "code",
   "execution_count": 1,
   "metadata": {},
   "outputs": [],
   "source": [
    "import cookci\n",
    "import os"
   ]
  },
  {
   "cell_type": "markdown",
   "metadata": {},
   "source": [
    "## Create default profile\n",
    "Génère un profile par défaut comprenant tous les notebooks du moment...  \n",
    "...avec la liste des overrides disponibles :-)"
   ]
  },
  {
   "cell_type": "code",
   "execution_count": 2,
   "metadata": {},
   "outputs": [
    {
     "name": "stdout",
     "output_type": "stream",
     "text": [
      "Profile saved as ./ci/default.yml\n",
      "Entries :  37\n"
     ]
    }
   ],
   "source": [
    "profile = cookci.get_default_profile()\n",
    "cookci.save_profile(profile, './ci/default.yml')"
   ]
  },
  {
   "cell_type": "markdown",
   "metadata": {},
   "source": [
    "## Profile"
   ]
  },
  {
   "cell_type": "code",
   "execution_count": 3,
   "metadata": {},
   "outputs": [],
   "source": [
    "# ---- Profile of tests\n",
    "#\n",
    "profile_name = './ci/smart_cpu.yml'"
   ]
  },
  {
   "cell_type": "markdown",
   "metadata": {},
   "source": [
    "## Run it"
   ]
  },
  {
   "cell_type": "code",
   "execution_count": 4,
   "metadata": {},
   "outputs": [
    {
     "name": "stdout",
     "output_type": "stream",
     "text": [
      "\n",
      "Run profile session - FIDLE 2021\n",
      "Version : 1.0\n",
      "\n",
      "Load profile :./ci/smart_cpu.yml\n",
      "    Entries :  16\n",
      "\n",
      "Create new ci report : /home/pjluc/dev/fidle/fidle/logs/ci_report.json\n",
      "Remove error file    : /home/pjluc/dev/fidle/fidle/logs/ci_ERROR.txt\n",
      "\n",
      "Run : LINR1\n",
      "    Run notebook.....done.\n",
      "    Duration :  0:00:04\n",
      "    Saved as :  01-Linear-Regression==ci==.ipynb\n",
      "\n",
      "Run : GRAD1\n",
      "    Run notebook.....done.\n",
      "    Duration :  0:00:07\n",
      "    Saved as :  02-Gradient-descent==ci==.ipynb\n",
      "\n",
      "Run : POLR1\n",
      "    Run notebook.....done.\n",
      "    Duration :  0:00:03\n",
      "    Saved as :  03-Polynomial-Regression==ci==.ipynb\n",
      "\n",
      "Run : LOGR1\n",
      "    Run notebook.....done.\n",
      "    Duration :  0:00:03\n",
      "    Saved as :  04-Logistic-Regression==ci==.ipynb\n",
      "\n",
      "Run : PER57\n",
      "    Run notebook.....done.\n",
      "    Duration :  0:00:04\n",
      "    Saved as :  01-Simple-Perceptron==ci==.ipynb\n",
      "\n",
      "Run : BHPD1\n",
      "    Run notebook.....done.\n",
      "    Duration :  0:00:09\n",
      "    Saved as :  01-DNN-Regression==ci==.ipynb\n",
      "\n",
      "Run : BHPD2\n",
      "    Run notebook.....done.\n",
      "    Duration :  0:00:13\n",
      "    Saved as :  02-DNN-Regression-Premium==ci==.ipynb\n",
      "\n",
      "Run : MNIST1\n",
      "    Run notebook.....done.\n",
      "    Duration :  0:00:36\n",
      "    Saved as :  01-DNN-MNIST==ci==.ipynb\n",
      "\n",
      "Run : MNIST2\n",
      "    Run notebook.....done.\n",
      "    Duration :  0:01:55\n",
      "    Saved as :  02-CNN-MNIST==ci==.ipynb\n",
      "\n",
      "Run : GTSRB1\n",
      "    set overrides :\n",
      "       FIDLE_OVERRIDE_GTSRG1_scale            = 0.05\n",
      "       FIDLE_OVERRIDE_GTSRG1_output_dir       = ./data\n",
      "    Run notebook.....done.\n",
      "    Duration :  0:01:59\n",
      "    Saved as :  01-Preparation-of-data==ci==.ipynb\n",
      "\n",
      "Run : GTSRB2\n",
      "    set overrides :\n",
      "       FIDLE_OVERRIDE_GTSRB2_run_dir          = ./run/GTSRB2_ci\n",
      "       FIDLE_OVERRIDE_GTSRB2_enhanced_dir     = ./data\n",
      "       FIDLE_OVERRIDE_GTSRB2_dataset_name     = set-24x24-L\n",
      "       FIDLE_OVERRIDE_GTSRB2_batch_size       = 64\n",
      "       FIDLE_OVERRIDE_GTSRB2_epochs           = 5\n",
      "       FIDLE_OVERRIDE_GTSRB2_scale            = 1\n",
      "    Run notebook.....done.\n",
      "    Duration :  0:00:29\n",
      "    Saved as :  02-First-convolutions==ci==.ipynb\n",
      "\n",
      "Run : GTSRB3\n",
      "    set overrides :\n",
      "       FIDLE_OVERRIDE_GTSRB3_run_dir          = ./run/GTSRB3_ci\n",
      "       FIDLE_OVERRIDE_GTSRB3_enhanced_dir     = ./data\n",
      "       FIDLE_OVERRIDE_GTSRB3_dataset_name     = set-24x24-L\n",
      "       FIDLE_OVERRIDE_GTSRB3_batch_size       = 64\n",
      "       FIDLE_OVERRIDE_GTSRB3_epochs           = 5\n",
      "       FIDLE_OVERRIDE_GTSRB3_scale            = 1\n",
      "    Run notebook.....done.\n",
      "    Duration :  0:00:54\n",
      "    Saved as :  03-Tracking-and-visualizing==ci==.ipynb\n",
      "\n",
      "Run : GTSRB4\n",
      "    set overrides :\n",
      "       FIDLE_OVERRIDE_GTSRB4_run_dir          = ./run/GTSRB4_ci\n",
      "       FIDLE_OVERRIDE_GTSRB4_enhanced_dir     = ./data\n",
      "       FIDLE_OVERRIDE_GTSRB4_dataset_name     = set-24x24-L\n",
      "       FIDLE_OVERRIDE_GTSRB4_batch_size       = 64\n",
      "       FIDLE_OVERRIDE_GTSRB4_epochs           = 5\n",
      "       FIDLE_OVERRIDE_GTSRB4_scale            = 1\n",
      "    Run notebook.....done.\n",
      "    Duration :  0:00:49\n",
      "    Saved as :  04-Data-augmentation==ci==.ipynb\n",
      "\n",
      "Run : GTSRB5\n",
      "    set overrides :\n",
      "       FIDLE_OVERRIDE_GTSRB5_run_dir          = ./run/GTSRB5_ci\n",
      "       FIDLE_OVERRIDE_GTSRB5_enhanced_dir     = ./data\n",
      "       FIDLE_OVERRIDE_GTSRB5_datasets         = ['set-24x24-L', 'set-24x24-RGB', 'set-48x48-RGB']\n",
      "       FIDLE_OVERRIDE_GTSRB5_models           = {'v1':'get_model_v1', 'v2':'get_model_v2', 'v3':'get_model_v3'}\n",
      "       FIDLE_OVERRIDE_GTSRB5_batch_size       = 64\n",
      "       FIDLE_OVERRIDE_GTSRB5_epochs           = 5\n",
      "       FIDLE_OVERRIDE_GTSRB5_scale            = 0.1\n",
      "       FIDLE_OVERRIDE_GTSRB5_with_datagen     = True\n",
      "       FIDLE_OVERRIDE_GTSRB5_verbose          = 0\n",
      "    Run notebook.....done.\n",
      "    Duration :  0:01:43\n",
      "    Saved as :  05-Full-convolutions==ci==.ipynb\n",
      "\n",
      "Run : GTSRB6\n",
      "    Run notebook.....done.\n",
      "    Duration :  0:00:01\n",
      "    Saved as :  06-Notebook-as-a-batch==ci==.ipynb\n",
      "\n",
      "Run : GTSRB7\n",
      "    set overrides :\n",
      "       FIDLE_OVERRIDE_GTSRB7_run_dir          = ./run/GTSRB7_ci\n",
      "       FIDLE_OVERRIDE_GTSRB7_report_dir       = ./run/GTSRB5_ci\n",
      "    Run notebook.....done.\n",
      "    Duration :  0:00:02\n",
      "    Saved as :  07-Show-report==ci==.ipynb\n",
      "\n",
      "End of running process\n",
      "    Duration : 0:09:20\n",
      "\n",
      "Complete ci report : /home/pjluc/dev/fidle/fidle/logs/ci_report.json\n"
     ]
    }
   ],
   "source": [
    "# ---- Override for batch mode\n",
    "#\n",
    "profile_name = os.getenv('FIDLE_OVERRIDE_PROFILE', profile_name )\n",
    "\n",
    "cookci.run_profile(profile_name, report_name='./logs/ci_report.json')"
   ]
  },
  {
   "cell_type": "code",
   "execution_count": 8,
   "metadata": {},
   "outputs": [],
   "source": [
    "%%bash\n",
    "find .. -name \"*==ci==.ipynb\" -ls | sort -k11\n",
    "# rm $(find .. -name \"*==ci==.ipynb\")"
   ]
  },
  {
   "cell_type": "markdown",
   "metadata": {},
   "source": [
    "---\n",
    "<img width=\"80px\" src=\"../fidle/img/00-Fidle-logo-01.svg\"></img>"
   ]
  }
 ],
 "metadata": {
  "kernelspec": {
   "display_name": "Python 3",
   "language": "python",
   "name": "python3"
  },
  "language_info": {
   "codemirror_mode": {
    "name": "ipython",
    "version": 3
   },
   "file_extension": ".py",
   "mimetype": "text/x-python",
   "name": "python",
   "nbconvert_exporter": "python",
   "pygments_lexer": "ipython3",
   "version": "3.8.5"
  }
 },
 "nbformat": 4,
 "nbformat_minor": 4
}
